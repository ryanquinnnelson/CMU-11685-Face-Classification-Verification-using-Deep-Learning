{
 "cells": [
  {
   "cell_type": "code",
   "execution_count": 23,
   "id": "7d308557-7fef-4721-910b-bc77621588eb",
   "metadata": {},
   "outputs": [],
   "source": [
    "import torchvision.transforms as transforms\n",
    "from torchvision.datasets import ImageFolder\n",
    "import pandas as pd"
   ]
  },
  {
   "cell_type": "code",
   "execution_count": 25,
   "id": "b4caf658-8981-4c59-b5c4-f7b3ac64a698",
   "metadata": {
    "tags": []
   },
   "outputs": [],
   "source": [
    "df = pd.read_csv('/Users/ryanqnelson/Documents/Holocron/_2020-CMU/courses/2021-fall/11-685 Deep Learning/homework/homework 2/submissions/submission02/Resnet50-Run-03.epoch46.20211013.14.31.47.output.csv')\n",
    "imf = ImageFolder('/Users/ryanqnelson/Desktop/test/content/competitions/idl-fall21-hw2p2s1-face-classification/train_data')"
   ]
  },
  {
   "cell_type": "code",
   "execution_count": 38,
   "id": "892a98c0-c54f-4ba8-82fb-55563f42ba8c",
   "metadata": {},
   "outputs": [
    {
     "data": {
      "text/plain": [
       "'10'"
      ]
     },
     "execution_count": 38,
     "metadata": {},
     "output_type": "execute_result"
    }
   ],
   "source": [
    "mapping = imf.class_to_idx\n",
    "# print(mapping)\n",
    "# print(mapping.values())\n",
    "# save this as separate json file / dictionary\n",
    "list(mapping.keys())[list(mapping.values()).index(2)]"
   ]
  },
  {
   "cell_type": "code",
   "execution_count": 34,
   "id": "220e5f69-53e3-460c-a34b-6f0f76eec5b8",
   "metadata": {},
   "outputs": [
    {
     "data": {
      "text/html": [
       "<div>\n",
       "<style scoped>\n",
       "    .dataframe tbody tr th:only-of-type {\n",
       "        vertical-align: middle;\n",
       "    }\n",
       "\n",
       "    .dataframe tbody tr th {\n",
       "        vertical-align: top;\n",
       "    }\n",
       "\n",
       "    .dataframe thead th {\n",
       "        text-align: right;\n",
       "    }\n",
       "</style>\n",
       "<table border=\"1\" class=\"dataframe\">\n",
       "  <thead>\n",
       "    <tr style=\"text-align: right;\">\n",
       "      <th></th>\n",
       "      <th>id</th>\n",
       "      <th>label</th>\n",
       "      <th>true_label</th>\n",
       "    </tr>\n",
       "  </thead>\n",
       "  <tbody>\n",
       "    <tr>\n",
       "      <th>0</th>\n",
       "      <td>0.jpg</td>\n",
       "      <td>3330</td>\n",
       "      <td>3996</td>\n",
       "    </tr>\n",
       "    <tr>\n",
       "      <th>1</th>\n",
       "      <td>1.jpg</td>\n",
       "      <td>1262</td>\n",
       "      <td>2133</td>\n",
       "    </tr>\n",
       "    <tr>\n",
       "      <th>2</th>\n",
       "      <td>2.jpg</td>\n",
       "      <td>3439</td>\n",
       "      <td>494</td>\n",
       "    </tr>\n",
       "    <tr>\n",
       "      <th>3</th>\n",
       "      <td>3.jpg</td>\n",
       "      <td>3113</td>\n",
       "      <td>380</td>\n",
       "    </tr>\n",
       "    <tr>\n",
       "      <th>4</th>\n",
       "      <td>4.jpg</td>\n",
       "      <td>1511</td>\n",
       "      <td>2358</td>\n",
       "    </tr>\n",
       "    <tr>\n",
       "      <th>...</th>\n",
       "      <td>...</td>\n",
       "      <td>...</td>\n",
       "      <td>...</td>\n",
       "    </tr>\n",
       "    <tr>\n",
       "      <th>7995</th>\n",
       "      <td>7995.jpg</td>\n",
       "      <td>1642</td>\n",
       "      <td>2476</td>\n",
       "    </tr>\n",
       "    <tr>\n",
       "      <th>7996</th>\n",
       "      <td>7996.jpg</td>\n",
       "      <td>32</td>\n",
       "      <td>1026</td>\n",
       "    </tr>\n",
       "    <tr>\n",
       "      <th>7997</th>\n",
       "      <td>7997.jpg</td>\n",
       "      <td>169</td>\n",
       "      <td>115</td>\n",
       "    </tr>\n",
       "    <tr>\n",
       "      <th>7998</th>\n",
       "      <td>7998.jpg</td>\n",
       "      <td>3722</td>\n",
       "      <td>749</td>\n",
       "    </tr>\n",
       "    <tr>\n",
       "      <th>7999</th>\n",
       "      <td>7999.jpg</td>\n",
       "      <td>1300</td>\n",
       "      <td>2168</td>\n",
       "    </tr>\n",
       "  </tbody>\n",
       "</table>\n",
       "<p>8000 rows × 3 columns</p>\n",
       "</div>"
      ],
      "text/plain": [
       "            id  label true_label\n",
       "0        0.jpg   3330       3996\n",
       "1        1.jpg   1262       2133\n",
       "2        2.jpg   3439        494\n",
       "3        3.jpg   3113        380\n",
       "4        4.jpg   1511       2358\n",
       "...        ...    ...        ...\n",
       "7995  7995.jpg   1642       2476\n",
       "7996  7996.jpg     32       1026\n",
       "7997  7997.jpg    169        115\n",
       "7998  7998.jpg   3722        749\n",
       "7999  7999.jpg   1300       2168\n",
       "\n",
       "[8000 rows x 3 columns]"
      ]
     },
     "execution_count": 34,
     "metadata": {},
     "output_type": "execute_result"
    }
   ],
   "source": [
    "df['true_label']=df.apply(lambda x: list(mapping.keys())[list(mapping.values()).index(x['label'])], axis=1)\n",
    "df"
   ]
  },
  {
   "cell_type": "code",
   "execution_count": 35,
   "id": "5d4b064f-83bd-4a89-a271-818864fd86f6",
   "metadata": {},
   "outputs": [],
   "source": [
    "df.to_csv('Resnet50-Run-03.epoch46.20211013.14.31.47.output.remapped.csv',header=True,index=False)"
   ]
  },
  {
   "cell_type": "code",
   "execution_count": 1,
   "id": "486fb8cc-0094-4aa5-9b98-520bfc680120",
   "metadata": {},
   "outputs": [
    {
     "data": {
      "text/plain": [
       "{'epoch': [1,\n",
       "  2,\n",
       "  3,\n",
       "  4,\n",
       "  5,\n",
       "  6,\n",
       "  7,\n",
       "  8,\n",
       "  9,\n",
       "  10,\n",
       "  11,\n",
       "  12,\n",
       "  13,\n",
       "  14,\n",
       "  15,\n",
       "  16,\n",
       "  17,\n",
       "  18,\n",
       "  19,\n",
       "  20],\n",
       " 'runtime': [173.34381747245789,\n",
       "  176.23806715011597,\n",
       "  175.81969118118286,\n",
       "  176.2367730140686,\n",
       "  176.90553641319275,\n",
       "  176.63670372962952,\n",
       "  175.82230591773987,\n",
       "  176.67537999153137,\n",
       "  176.41279816627502,\n",
       "  175.73298358917236,\n",
       "  176.4865367412567,\n",
       "  176.67908835411072,\n",
       "  176.84148979187012,\n",
       "  175.40579295158386,\n",
       "  176.106516122818,\n",
       "  176.21791410446167,\n",
       "  176.47848916053772,\n",
       "  176.4559292793274,\n",
       "  176.76648545265198,\n",
       "  176.99375009536743],\n",
       " 'train_loss': [7.108267660981148,\n",
       "  5.6429143506725445,\n",
       "  4.846137953991047,\n",
       "  4.339094778636837,\n",
       "  3.949684057928366,\n",
       "  3.6364075741514554,\n",
       "  3.376674101989223,\n",
       "  3.163534455437266,\n",
       "  2.9938129400677864,\n",
       "  2.8544006339639485,\n",
       "  2.729698309901583,\n",
       "  2.617389258716278,\n",
       "  2.5088232383683136,\n",
       "  2.4152499543153447,\n",
       "  2.3287652994693326,\n",
       "  2.249034518352193,\n",
       "  2.1813649614945945,\n",
       "  2.120763939021815,\n",
       "  2.0585832222243967,\n",
       "  1.222101317649731],\n",
       " 'val_loss': [6.557581201195717,\n",
       "  5.615329548716545,\n",
       "  5.114849701523781,\n",
       "  4.7651306092739105,\n",
       "  4.405599668622017,\n",
       "  4.2551300674676895,\n",
       "  3.911240875720978,\n",
       "  3.693402498960495,\n",
       "  3.8505537807941437,\n",
       "  3.6717676147818565,\n",
       "  3.540007323026657,\n",
       "  3.4689655154943466,\n",
       "  3.288148358464241,\n",
       "  3.404498018324375,\n",
       "  3.1845953464508057,\n",
       "  3.0493993759155273,\n",
       "  3.1481076925992966,\n",
       "  3.1172366589307785,\n",
       "  3.2229189202189445,\n",
       "  2.169641651213169],\n",
       " 'val_acc': [0.019375,\n",
       "  0.067125,\n",
       "  0.10725,\n",
       "  0.14875,\n",
       "  0.19625,\n",
       "  0.210375,\n",
       "  0.26125,\n",
       "  0.28825,\n",
       "  0.279125,\n",
       "  0.301125,\n",
       "  0.324625,\n",
       "  0.340375,\n",
       "  0.361625,\n",
       "  0.35725,\n",
       "  0.387125,\n",
       "  0.404625,\n",
       "  0.386875,\n",
       "  0.39775,\n",
       "  0.3865,\n",
       "  0.565875]}"
      ]
     },
     "execution_count": 1,
     "metadata": {},
     "output_type": "execute_result"
    }
   ],
   "source": [
    "d = {'epoch': [1, 2, 3, 4, 5, 6, 7, 8, 9, 10, 11, 12, 13, 14, 15, 16, 17, 18, 19, 20], 'runtime': [173.34381747245789, 176.23806715011597, 175.81969118118286, 176.2367730140686, 176.90553641319275, 176.63670372962952, 175.82230591773987, 176.67537999153137, 176.41279816627502, 175.73298358917236, 176.4865367412567, 176.67908835411072, 176.84148979187012, 175.40579295158386, 176.106516122818, 176.21791410446167, 176.47848916053772, 176.4559292793274, 176.76648545265198, 176.99375009536743], 'train_loss': [7.108267660981148, 5.6429143506725445, 4.846137953991047, 4.339094778636837, 3.949684057928366, 3.6364075741514554, 3.376674101989223, 3.163534455437266, 2.9938129400677864, 2.8544006339639485, 2.729698309901583, 2.617389258716278, 2.5088232383683136, 2.4152499543153447, 2.3287652994693326, 2.249034518352193, 2.1813649614945945, 2.120763939021815, 2.0585832222243967, 1.222101317649731], 'val_loss': [6.557581201195717, 5.615329548716545, 5.114849701523781, 4.7651306092739105, 4.405599668622017, 4.2551300674676895, 3.911240875720978, 3.693402498960495, 3.8505537807941437, 3.6717676147818565, 3.540007323026657, 3.4689655154943466, 3.288148358464241, 3.404498018324375, 3.1845953464508057, 3.0493993759155273, 3.1481076925992966, 3.1172366589307785, 3.2229189202189445, 2.169641651213169], 'val_acc': [0.019375, 0.067125, 0.10725, 0.14875, 0.19625, 0.210375, 0.26125, 0.28825, 0.279125, 0.301125, 0.324625, 0.340375, 0.361625, 0.35725, 0.387125, 0.404625, 0.386875, 0.39775, 0.3865, 0.565875]}\n",
    "d"
   ]
  },
  {
   "cell_type": "code",
   "execution_count": 7,
   "id": "84e8d966-dc2c-4dc0-a407-f75784b5afe2",
   "metadata": {},
   "outputs": [
    {
     "data": {
      "text/plain": [
       "20"
      ]
     },
     "execution_count": 7,
     "metadata": {},
     "output_type": "execute_result"
    }
   ],
   "source": [
    "len(d[list(d.keys())[0]])"
   ]
  },
  {
   "cell_type": "code",
   "execution_count": null,
   "id": "d9cc688f-ae0a-4fda-b27d-30d39141cf5b",
   "metadata": {},
   "outputs": [],
   "source": []
  }
 ],
 "metadata": {
  "kernelspec": {
   "display_name": "Python 3 (ipykernel)",
   "language": "python",
   "name": "python3"
  },
  "language_info": {
   "codemirror_mode": {
    "name": "ipython",
    "version": 3
   },
   "file_extension": ".py",
   "mimetype": "text/x-python",
   "name": "python",
   "nbconvert_exporter": "python",
   "pygments_lexer": "ipython3",
   "version": "3.8.11"
  }
 },
 "nbformat": 4,
 "nbformat_minor": 5
}
