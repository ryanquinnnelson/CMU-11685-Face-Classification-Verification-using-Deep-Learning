{
 "cells": [
  {
   "cell_type": "code",
   "execution_count": 23,
   "id": "7d308557-7fef-4721-910b-bc77621588eb",
   "metadata": {},
   "outputs": [],
   "source": [
    "import torchvision.transforms as transforms\n",
    "from torchvision.datasets import ImageFolder\n",
    "import pandas as pd"
   ]
  },
  {
   "cell_type": "code",
   "execution_count": 25,
   "id": "b4caf658-8981-4c59-b5c4-f7b3ac64a698",
   "metadata": {
    "tags": []
   },
   "outputs": [],
   "source": [
    "df = pd.read_csv('/Users/ryanqnelson/Documents/Holocron/_2020-CMU/courses/2021-fall/11-685 Deep Learning/homework/homework 2/submissions/submission02/Resnet50-Run-03.epoch46.20211013.14.31.47.output.csv')\n",
    "imf = ImageFolder('/Users/ryanqnelson/Desktop/test/content/competitions/idl-fall21-hw2p2s1-face-classification/train_data')"
   ]
  },
  {
   "cell_type": "code",
   "execution_count": 38,
   "id": "892a98c0-c54f-4ba8-82fb-55563f42ba8c",
   "metadata": {},
   "outputs": [
    {
     "data": {
      "text/plain": [
       "'10'"
      ]
     },
     "execution_count": 38,
     "metadata": {},
     "output_type": "execute_result"
    }
   ],
   "source": [
    "mapping = imf.class_to_idx\n",
    "# print(mapping)\n",
    "# print(mapping.values())\n",
    "# save this as separate json file / dictionary\n",
    "list(mapping.keys())[list(mapping.values()).index(2)]"
   ]
  },
  {
   "cell_type": "code",
   "execution_count": 34,
   "id": "220e5f69-53e3-460c-a34b-6f0f76eec5b8",
   "metadata": {},
   "outputs": [
    {
     "data": {
      "text/html": [
       "<div>\n",
       "<style scoped>\n",
       "    .dataframe tbody tr th:only-of-type {\n",
       "        vertical-align: middle;\n",
       "    }\n",
       "\n",
       "    .dataframe tbody tr th {\n",
       "        vertical-align: top;\n",
       "    }\n",
       "\n",
       "    .dataframe thead th {\n",
       "        text-align: right;\n",
       "    }\n",
       "</style>\n",
       "<table border=\"1\" class=\"dataframe\">\n",
       "  <thead>\n",
       "    <tr style=\"text-align: right;\">\n",
       "      <th></th>\n",
       "      <th>id</th>\n",
       "      <th>label</th>\n",
       "      <th>true_label</th>\n",
       "    </tr>\n",
       "  </thead>\n",
       "  <tbody>\n",
       "    <tr>\n",
       "      <th>0</th>\n",
       "      <td>0.jpg</td>\n",
       "      <td>3330</td>\n",
       "      <td>3996</td>\n",
       "    </tr>\n",
       "    <tr>\n",
       "      <th>1</th>\n",
       "      <td>1.jpg</td>\n",
       "      <td>1262</td>\n",
       "      <td>2133</td>\n",
       "    </tr>\n",
       "    <tr>\n",
       "      <th>2</th>\n",
       "      <td>2.jpg</td>\n",
       "      <td>3439</td>\n",
       "      <td>494</td>\n",
       "    </tr>\n",
       "    <tr>\n",
       "      <th>3</th>\n",
       "      <td>3.jpg</td>\n",
       "      <td>3113</td>\n",
       "      <td>380</td>\n",
       "    </tr>\n",
       "    <tr>\n",
       "      <th>4</th>\n",
       "      <td>4.jpg</td>\n",
       "      <td>1511</td>\n",
       "      <td>2358</td>\n",
       "    </tr>\n",
       "    <tr>\n",
       "      <th>...</th>\n",
       "      <td>...</td>\n",
       "      <td>...</td>\n",
       "      <td>...</td>\n",
       "    </tr>\n",
       "    <tr>\n",
       "      <th>7995</th>\n",
       "      <td>7995.jpg</td>\n",
       "      <td>1642</td>\n",
       "      <td>2476</td>\n",
       "    </tr>\n",
       "    <tr>\n",
       "      <th>7996</th>\n",
       "      <td>7996.jpg</td>\n",
       "      <td>32</td>\n",
       "      <td>1026</td>\n",
       "    </tr>\n",
       "    <tr>\n",
       "      <th>7997</th>\n",
       "      <td>7997.jpg</td>\n",
       "      <td>169</td>\n",
       "      <td>115</td>\n",
       "    </tr>\n",
       "    <tr>\n",
       "      <th>7998</th>\n",
       "      <td>7998.jpg</td>\n",
       "      <td>3722</td>\n",
       "      <td>749</td>\n",
       "    </tr>\n",
       "    <tr>\n",
       "      <th>7999</th>\n",
       "      <td>7999.jpg</td>\n",
       "      <td>1300</td>\n",
       "      <td>2168</td>\n",
       "    </tr>\n",
       "  </tbody>\n",
       "</table>\n",
       "<p>8000 rows × 3 columns</p>\n",
       "</div>"
      ],
      "text/plain": [
       "            id  label true_label\n",
       "0        0.jpg   3330       3996\n",
       "1        1.jpg   1262       2133\n",
       "2        2.jpg   3439        494\n",
       "3        3.jpg   3113        380\n",
       "4        4.jpg   1511       2358\n",
       "...        ...    ...        ...\n",
       "7995  7995.jpg   1642       2476\n",
       "7996  7996.jpg     32       1026\n",
       "7997  7997.jpg    169        115\n",
       "7998  7998.jpg   3722        749\n",
       "7999  7999.jpg   1300       2168\n",
       "\n",
       "[8000 rows x 3 columns]"
      ]
     },
     "execution_count": 34,
     "metadata": {},
     "output_type": "execute_result"
    }
   ],
   "source": [
    "df['true_label']=df.apply(lambda x: list(mapping.keys())[list(mapping.values()).index(x['label'])], axis=1)\n",
    "df"
   ]
  },
  {
   "cell_type": "code",
   "execution_count": 35,
   "id": "5d4b064f-83bd-4a89-a271-818864fd86f6",
   "metadata": {},
   "outputs": [],
   "source": [
    "df.to_csv('Resnet50-Run-03.epoch46.20211013.14.31.47.output.remapped.csv',header=True,index=False)"
   ]
  },
  {
   "cell_type": "code",
   "execution_count": null,
   "id": "486fb8cc-0094-4aa5-9b98-520bfc680120",
   "metadata": {},
   "outputs": [],
   "source": []
  }
 ],
 "metadata": {
  "kernelspec": {
   "display_name": "Python 3 (ipykernel)",
   "language": "python",
   "name": "python3"
  },
  "language_info": {
   "codemirror_mode": {
    "name": "ipython",
    "version": 3
   },
   "file_extension": ".py",
   "mimetype": "text/x-python",
   "name": "python",
   "nbconvert_exporter": "python",
   "pygments_lexer": "ipython3",
   "version": "3.8.11"
  }
 },
 "nbformat": 4,
 "nbformat_minor": 5
}
