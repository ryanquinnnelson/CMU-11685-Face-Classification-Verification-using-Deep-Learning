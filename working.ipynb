{
 "cells": [
  {
   "cell_type": "code",
   "execution_count": null,
   "id": "1ba57603-ada0-42a0-9286-f4ce2cb85a09",
   "metadata": {},
   "outputs": [],
   "source": []
  },
  {
   "cell_type": "code",
   "execution_count": null,
   "id": "25ec127a-d900-4a49-8173-951d7cf93b78",
   "metadata": {},
   "outputs": [],
   "source": []
  },
  {
   "cell_type": "code",
   "execution_count": null,
   "id": "af24c589-82b0-4234-a580-cd3c21c7cd07",
   "metadata": {},
   "outputs": [],
   "source": []
  },
  {
   "cell_type": "code",
   "execution_count": null,
   "id": "fe1810d7-07cd-4b27-9ad8-0df3ef0e7cf0",
   "metadata": {},
   "outputs": [],
   "source": []
  },
  {
   "cell_type": "code",
   "execution_count": null,
   "id": "ba6525f2-e71f-450c-82c3-272961bcd82d",
   "metadata": {},
   "outputs": [],
   "source": []
  },
  {
   "cell_type": "code",
   "execution_count": null,
   "id": "19de5f30-225e-4810-a326-cebb2a78e034",
   "metadata": {},
   "outputs": [],
   "source": []
  },
  {
   "cell_type": "code",
   "execution_count": null,
   "id": "ee0f3864-50d7-4cf4-8209-933185471c45",
   "metadata": {},
   "outputs": [],
   "source": []
  },
  {
   "cell_type": "code",
   "execution_count": 1,
   "id": "6a86ac00-0aed-41e9-a021-e9494bd69062",
   "metadata": {},
   "outputs": [],
   "source": [
    "def _calc_output_size(input_size, padding, dilation, kernel_size, stride):\n",
    "    input_size_padded = input_size + 2 * padding\n",
    "    kernel_dilated = (kernel_size - 1) * (dilation - 1) + kernel_size\n",
    "    output_size = (input_size_padded - kernel_dilated) // stride + 1\n",
    "    return output_size"
   ]
  },
  {
   "cell_type": "code",
   "execution_count": 17,
   "id": "515c70bb-f686-442d-b6f2-bf874c829a4c",
   "metadata": {},
   "outputs": [
    {
     "name": "stdout",
     "output_type": "stream",
     "text": [
      "conv1\t\t 64 32 padding=3, dilation=1, kernel_size=7, stride=2\n",
      "maxpool\t\t 32 16 padding=0, dilation=1, kernel_size=3, stride=2\n",
      "conv2..1\t 16 8 padding=1, dilation=1, kernel_size=3, stride=2\n",
      "conv2..2\t 8 8 padding=1, dilation=1, kernel_size=3, stride=1\n",
      "conv2..3\t 8 8 padding=1, dilation=1, kernel_size=3, stride=1\n",
      "conv2..4\t 8 8 padding=1, dilation=1, kernel_size=3, stride=1\n"
     ]
    }
   ],
   "source": [
    "\n",
    "# layer 1\n",
    "in_features = 64\n",
    "output_size = _calc_output_size(in_features, padding=3, dilation=1, kernel_size=7, stride=2)\n",
    "print('conv1\\t\\t',in_features, output_size,'padding=3, dilation=1, kernel_size=7, stride=2')\n",
    "\n",
    "# maxpool\n",
    "in_features = output_size\n",
    "output_size = _calc_output_size(in_features, padding=1, dilation=1, kernel_size=3, stride=2)\n",
    "print('maxpool\\t\\t',in_features, output_size,'padding=0, dilation=1, kernel_size=3, stride=2')\n",
    "\n",
    "# layer 2\n",
    "in_features = output_size\n",
    "output_size = _calc_output_size(in_features, padding=1, dilation=1, kernel_size=3, stride=2)\n",
    "print('conv2..1\\t',in_features, output_size, 'padding=1, dilation=1, kernel_size=3, stride=2')\n",
    "\n",
    "# layer 3\n",
    "in_features = output_size\n",
    "output_size = _calc_output_size(in_features, padding=1, dilation=1, kernel_size=3, stride=1)\n",
    "print('conv2..2\\t',in_features, output_size, 'padding=1, dilation=1, kernel_size=3, stride=1')\n",
    "\n",
    "# layer 4\n",
    "in_features = output_size\n",
    "output_size = _calc_output_size(in_features, padding=1, dilation=1, kernel_size=3, stride=1)\n",
    "print('conv2..3\\t',in_features, output_size,'padding=1, dilation=1, kernel_size=3, stride=1')\n",
    "\n",
    "# layer 5\n",
    "in_features = output_size\n",
    "output_size = _calc_output_size(in_features, padding=1, dilation=1, kernel_size=3, stride=1)\n",
    "print('conv2..4\\t',in_features, output_size,'padding=1, dilation=1, kernel_size=3, stride=1')\n",
    "\n",
    "# layer 6\n"
   ]
  },
  {
   "cell_type": "code",
   "execution_count": 18,
   "id": "7d308557-7fef-4721-910b-bc77621588eb",
   "metadata": {},
   "outputs": [],
   "source": [
    "\n",
    "import torch.nn as nn"
   ]
  },
  {
   "cell_type": "code",
   "execution_count": 61,
   "id": "f59888bf-09f7-4509-ae05-ce90fe85a6fa",
   "metadata": {},
   "outputs": [],
   "source": [
    "class ResidualBlock(nn.Module):\n",
    "\n",
    "    def __init__(self, in_channels, out_channels, stride=1, expansion=1,downsampling=1):\n",
    "        super().__init__()\n",
    "        \n",
    "        self.in_channels = in_channels\n",
    "        self.out_channels = out_channels\n",
    "        self.expansion = expansion\n",
    "        self.downsampling = downsampling\n",
    "        self.expanded_channels = self.out_channels * self.expansion\n",
    "        self.kernel_size = 3\n",
    "\n",
    "        self.blocks = nn.Sequential(\n",
    "            \n",
    "#             nn.Identity())\n",
    "        \n",
    "            # first conv layer\n",
    "            nn.Conv2d(self.in_channels, self.out_channels, kernel_size=self.kernel_size, stride=self.downsampling, padding=self.kernel_size//2, bias=False),\n",
    "            nn.BatchNorm2d(self.out_channels),\n",
    "            nn.ReLU(inplace=True),\n",
    "\n",
    "            # second conv layer\n",
    "            nn.Conv2d(self.out_channels, self.expanded_channels, kernel_size=self.kernel_size, stride=1, padding=1, bias=False),\n",
    "            nn.BatchNorm2d(self.out_channels))\n",
    "\n",
    "        # shortcut\n",
    "        if self.in_channels == self.out_channels:\n",
    "            self.shortcut = nn.Identity()\n",
    "        else:\n",
    "#             self.shortcut = nn.Identity()\n",
    "            self.shortcut = nn.Sequential(\n",
    "                nn.Conv2d(self.in_channels, self.expanded_channels, kernel_size=1, stride=self.downsampling, bias=False)\n",
    "                # include BatchNorm2d?\n",
    "            )\n",
    "        \n",
    "        self.activate = nn.ReLU(inplace=True)\n",
    "\n",
    "    def forward(self, x):\n",
    "        # blocks\n",
    "        out = self.blocks(x)\n",
    "\n",
    "        shortcut = self.shortcut(x)\n",
    "        \n",
    "        print(out.shape)\n",
    "        print(shortcut.shape)\n",
    "\n",
    "        out = self.activate(out + shortcut)\n",
    "\n",
    "        return out"
   ]
  },
  {
   "cell_type": "code",
   "execution_count": 62,
   "id": "a75276e9-ba5f-4744-9490-df8d90955471",
   "metadata": {},
   "outputs": [
    {
     "data": {
      "text/plain": [
       "ResidualBlock(\n",
       "  (blocks): Sequential(\n",
       "    (0): Conv2d(32, 64, kernel_size=(3, 3), stride=(1, 1), bias=False)\n",
       "    (1): BatchNorm2d(64, eps=1e-05, momentum=0.1, affine=True, track_running_stats=True)\n",
       "    (2): ReLU(inplace=True)\n",
       "    (3): Conv2d(64, 64, kernel_size=(3, 3), stride=(1, 1), padding=(1, 1), bias=False)\n",
       "    (4): BatchNorm2d(64, eps=1e-05, momentum=0.1, affine=True, track_running_stats=True)\n",
       "  )\n",
       "  (shortcut): Sequential(\n",
       "    (0): Conv2d(32, 64, kernel_size=(1, 1), stride=(1, 1), bias=False)\n",
       "  )\n",
       "  (activate): ReLU(inplace=True)\n",
       ")"
      ]
     },
     "execution_count": 62,
     "metadata": {},
     "output_type": "execute_result"
    }
   ],
   "source": [
    "block = ResidualBlock(32,64)\n",
    "block\n"
   ]
  },
  {
   "cell_type": "code",
   "execution_count": 63,
   "id": "e96ee23a-e799-4d7d-be96-6e4c277c44b0",
   "metadata": {},
   "outputs": [
    {
     "name": "stdout",
     "output_type": "stream",
     "text": [
      "torch.Size([1, 64, 222, 222])\n",
      "torch.Size([1, 64, 224, 224])\n"
     ]
    },
    {
     "ename": "RuntimeError",
     "evalue": "The size of tensor a (222) must match the size of tensor b (224) at non-singleton dimension 3",
     "output_type": "error",
     "traceback": [
      "\u001b[0;31m---------------------------------------------------------------------------\u001b[0m",
      "\u001b[0;31mRuntimeError\u001b[0m                              Traceback (most recent call last)",
      "\u001b[0;32m/var/folders/5d/td2lpmcj3vq5wsprrdr42r9w0000gn/T/ipykernel_93754/873505406.py\u001b[0m in \u001b[0;36m<module>\u001b[0;34m\u001b[0m\n\u001b[1;32m      1\u001b[0m \u001b[0mdummy\u001b[0m \u001b[0;34m=\u001b[0m \u001b[0mtorch\u001b[0m\u001b[0;34m.\u001b[0m\u001b[0mones\u001b[0m\u001b[0;34m(\u001b[0m\u001b[0;34m[\u001b[0m\u001b[0;36m1\u001b[0m\u001b[0;34m,\u001b[0m\u001b[0;36m32\u001b[0m\u001b[0;34m,\u001b[0m\u001b[0;36m224\u001b[0m\u001b[0;34m,\u001b[0m\u001b[0;36m224\u001b[0m\u001b[0;34m]\u001b[0m\u001b[0;34m)\u001b[0m\u001b[0;34m\u001b[0m\u001b[0;34m\u001b[0m\u001b[0m\n\u001b[0;32m----> 2\u001b[0;31m \u001b[0mblock\u001b[0m\u001b[0;34m(\u001b[0m\u001b[0mdummy\u001b[0m\u001b[0;34m)\u001b[0m\u001b[0;34m.\u001b[0m\u001b[0mshape\u001b[0m\u001b[0;34m\u001b[0m\u001b[0;34m\u001b[0m\u001b[0m\n\u001b[0m",
      "\u001b[0;32m/opt/anaconda3/envs/cmu-2/lib/python3.8/site-packages/torch/nn/modules/module.py\u001b[0m in \u001b[0;36m_call_impl\u001b[0;34m(self, *input, **kwargs)\u001b[0m\n\u001b[1;32m    725\u001b[0m             \u001b[0mresult\u001b[0m \u001b[0;34m=\u001b[0m \u001b[0mself\u001b[0m\u001b[0;34m.\u001b[0m\u001b[0m_slow_forward\u001b[0m\u001b[0;34m(\u001b[0m\u001b[0;34m*\u001b[0m\u001b[0minput\u001b[0m\u001b[0;34m,\u001b[0m \u001b[0;34m**\u001b[0m\u001b[0mkwargs\u001b[0m\u001b[0;34m)\u001b[0m\u001b[0;34m\u001b[0m\u001b[0;34m\u001b[0m\u001b[0m\n\u001b[1;32m    726\u001b[0m         \u001b[0;32melse\u001b[0m\u001b[0;34m:\u001b[0m\u001b[0;34m\u001b[0m\u001b[0;34m\u001b[0m\u001b[0m\n\u001b[0;32m--> 727\u001b[0;31m             \u001b[0mresult\u001b[0m \u001b[0;34m=\u001b[0m \u001b[0mself\u001b[0m\u001b[0;34m.\u001b[0m\u001b[0mforward\u001b[0m\u001b[0;34m(\u001b[0m\u001b[0;34m*\u001b[0m\u001b[0minput\u001b[0m\u001b[0;34m,\u001b[0m \u001b[0;34m**\u001b[0m\u001b[0mkwargs\u001b[0m\u001b[0;34m)\u001b[0m\u001b[0;34m\u001b[0m\u001b[0;34m\u001b[0m\u001b[0m\n\u001b[0m\u001b[1;32m    728\u001b[0m         for hook in itertools.chain(\n\u001b[1;32m    729\u001b[0m                 \u001b[0m_global_forward_hooks\u001b[0m\u001b[0;34m.\u001b[0m\u001b[0mvalues\u001b[0m\u001b[0;34m(\u001b[0m\u001b[0;34m)\u001b[0m\u001b[0;34m,\u001b[0m\u001b[0;34m\u001b[0m\u001b[0;34m\u001b[0m\u001b[0m\n",
      "\u001b[0;32m/var/folders/5d/td2lpmcj3vq5wsprrdr42r9w0000gn/T/ipykernel_93754/205973867.py\u001b[0m in \u001b[0;36mforward\u001b[0;34m(self, x)\u001b[0m\n\u001b[1;32m     44\u001b[0m         \u001b[0mprint\u001b[0m\u001b[0;34m(\u001b[0m\u001b[0mshortcut\u001b[0m\u001b[0;34m.\u001b[0m\u001b[0mshape\u001b[0m\u001b[0;34m)\u001b[0m\u001b[0;34m\u001b[0m\u001b[0;34m\u001b[0m\u001b[0m\n\u001b[1;32m     45\u001b[0m \u001b[0;34m\u001b[0m\u001b[0m\n\u001b[0;32m---> 46\u001b[0;31m         \u001b[0mout\u001b[0m \u001b[0;34m=\u001b[0m \u001b[0mself\u001b[0m\u001b[0;34m.\u001b[0m\u001b[0mactivate\u001b[0m\u001b[0;34m(\u001b[0m\u001b[0mout\u001b[0m \u001b[0;34m+\u001b[0m \u001b[0mshortcut\u001b[0m\u001b[0;34m)\u001b[0m\u001b[0;34m\u001b[0m\u001b[0;34m\u001b[0m\u001b[0m\n\u001b[0m\u001b[1;32m     47\u001b[0m \u001b[0;34m\u001b[0m\u001b[0m\n\u001b[1;32m     48\u001b[0m         \u001b[0;32mreturn\u001b[0m \u001b[0mout\u001b[0m\u001b[0;34m\u001b[0m\u001b[0;34m\u001b[0m\u001b[0m\n",
      "\u001b[0;31mRuntimeError\u001b[0m: The size of tensor a (222) must match the size of tensor b (224) at non-singleton dimension 3"
     ]
    }
   ],
   "source": [
    "dummy = torch.ones([1,32,224,224])\n",
    "block(dummy).shape"
   ]
  },
  {
   "cell_type": "code",
   "execution_count": null,
   "id": "7016fd14-3868-4bb6-8526-e9fd81221d5d",
   "metadata": {},
   "outputs": [],
   "source": []
  }
 ],
 "metadata": {
  "kernelspec": {
   "display_name": "Python 3 (ipykernel)",
   "language": "python",
   "name": "python3"
  },
  "language_info": {
   "codemirror_mode": {
    "name": "ipython",
    "version": 3
   },
   "file_extension": ".py",
   "mimetype": "text/x-python",
   "name": "python",
   "nbconvert_exporter": "python",
   "pygments_lexer": "ipython3",
   "version": "3.8.11"
  }
 },
 "nbformat": 4,
 "nbformat_minor": 5
}
